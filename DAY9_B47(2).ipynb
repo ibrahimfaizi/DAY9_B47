{
 "cells": [
  {
   "cell_type": "code",
   "execution_count": 1,
   "id": "de686c8c",
   "metadata": {},
   "outputs": [
    {
     "name": "stdout",
     "output_type": "stream",
     "text": [
      "Enter a number, and i will tell you if its even or odd51\n",
      "\n",
      " The number 51 is odd\n"
     ]
    }
   ],
   "source": [
    "number = input(\"Enter a number, and i will tell you if its even or odd\")\n",
    "number = int(number)\n",
    "if number%2==0:\n",
    "    print(f\"\\n The number {number} is even\")\n",
    "else:\n",
    "    print(f\"\\n The number {number} is odd\")"
   ]
  },
  {
   "cell_type": "code",
   "execution_count": 2,
   "id": "d4ba2f3e",
   "metadata": {},
   "outputs": [
    {
     "name": "stdout",
     "output_type": "stream",
     "text": [
      "Enter a number, and i will tell you if its even or odd16\n",
      "\n",
      " The number 16 is even\n"
     ]
    }
   ],
   "source": [
    "number = input(\"Enter a number, and i will tell you if its even or odd\")\n",
    "number = int(number)\n",
    "if number%2==0:\n",
    "    print(f\"\\n The number {number} is even\")\n",
    "else:\n",
    "    print(f\"\\n The number {number} is odd\")"
   ]
  },
  {
   "cell_type": "code",
   "execution_count": 4,
   "id": "14eab182",
   "metadata": {},
   "outputs": [
    {
     "ename": "SyntaxError",
     "evalue": "invalid syntax (<ipython-input-4-ff188c1a8b8a>, line 4)",
     "output_type": "error",
     "traceback": [
      "\u001b[1;36m  File \u001b[1;32m\"<ipython-input-4-ff188c1a8b8a>\"\u001b[1;36m, line \u001b[1;32m4\u001b[0m\n\u001b[1;33m    current_number = current_number +=1\u001b[0m\n\u001b[1;37m                                    ^\u001b[0m\n\u001b[1;31mSyntaxError\u001b[0m\u001b[1;31m:\u001b[0m invalid syntax\n"
     ]
    }
   ],
   "source": [
    "current_number = 1\n",
    "while current_number <=5:\n",
    "    print(current_number)\n",
    "    current_number = current_number +=1"
   ]
  },
  {
   "cell_type": "code",
   "execution_count": 6,
   "id": "48be9805",
   "metadata": {},
   "outputs": [
    {
     "name": "stdout",
     "output_type": "stream",
     "text": [
      "1\n",
      "2\n",
      "3\n",
      "4\n",
      "5\n"
     ]
    }
   ],
   "source": [
    "current_number = 1\n",
    "while current_number <=5:\n",
    "    print(current_number)\n",
    "    current_number+=1"
   ]
  },
  {
   "cell_type": "code",
   "execution_count": null,
   "id": "c53015c1",
   "metadata": {},
   "outputs": [],
   "source": []
  },
  {
   "cell_type": "code",
   "execution_count": null,
   "id": "e69b3d39",
   "metadata": {},
   "outputs": [],
   "source": []
  },
  {
   "cell_type": "code",
   "execution_count": null,
   "id": "c23c42ff",
   "metadata": {},
   "outputs": [],
   "source": []
  },
  {
   "cell_type": "code",
   "execution_count": null,
   "id": "2ee0ca4a",
   "metadata": {},
   "outputs": [],
   "source": []
  },
  {
   "cell_type": "code",
   "execution_count": null,
   "id": "5752458f",
   "metadata": {},
   "outputs": [],
   "source": []
  },
  {
   "cell_type": "code",
   "execution_count": null,
   "id": "04680252",
   "metadata": {},
   "outputs": [],
   "source": []
  }
 ],
 "metadata": {
  "kernelspec": {
   "display_name": "Python 3",
   "language": "python",
   "name": "python3"
  },
  "language_info": {
   "codemirror_mode": {
    "name": "ipython",
    "version": 3
   },
   "file_extension": ".py",
   "mimetype": "text/x-python",
   "name": "python",
   "nbconvert_exporter": "python",
   "pygments_lexer": "ipython3",
   "version": "3.8.8"
  }
 },
 "nbformat": 4,
 "nbformat_minor": 5
}
