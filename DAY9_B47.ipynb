{
 "cells": [
  {
   "cell_type": "code",
   "execution_count": null,
   "id": "c328bf75",
   "metadata": {},
   "outputs": [],
   "source": [
    "User accepted inputs"
   ]
  },
  {
   "cell_type": "code",
   "execution_count": 3,
   "id": "e30bbc71",
   "metadata": {},
   "outputs": [
    {
     "name": "stdout",
     "output_type": "stream",
     "text": [
      "Tell me something and i will repeat it back for youHello Ibrahim\n",
      "Hello Ibrahim\n"
     ]
    }
   ],
   "source": [
    "message = input(\"Tell me something and i will repeat it back for you\")\n",
    "print(message)"
   ]
  },
  {
   "cell_type": "code",
   "execution_count": 5,
   "id": "237e608b",
   "metadata": {},
   "outputs": [
    {
     "name": "stdout",
     "output_type": "stream",
     "text": [
      "Tell me something and i will repeat it back for youIbrahim\n",
      "Hello, Ibrahim\n"
     ]
    }
   ],
   "source": [
    "prompt = \"Tell me something and i will repeat it back for you\"\n",
    "name = input(prompt)\n",
    "print(f\"Hello, {name}\")"
   ]
  },
  {
   "cell_type": "code",
   "execution_count": 12,
   "id": "3d83a03b",
   "metadata": {},
   "outputs": [
    {
     "name": "stdout",
     "output_type": "stream",
     "text": [
      "How old are you\n"
     ]
    }
   ],
   "source": [
    "age = \"How old are you\"\n",
    "print(age)"
   ]
  },
  {
   "cell_type": "code",
   "execution_count": 7,
   "id": "a3f48003",
   "metadata": {},
   "outputs": [
    {
     "ename": "TypeError",
     "evalue": "'>' not supported between instances of 'str' and 'int'",
     "output_type": "error",
     "traceback": [
      "\u001b[1;31m---------------------------------------------------------------------------\u001b[0m",
      "\u001b[1;31mTypeError\u001b[0m                                 Traceback (most recent call last)",
      "\u001b[1;32m<ipython-input-7-7da0d923064a>\u001b[0m in \u001b[0;36m<module>\u001b[1;34m\u001b[0m\n\u001b[1;32m----> 1\u001b[1;33m \u001b[0mage\u001b[0m\u001b[1;33m>\u001b[0m\u001b[1;36m18\u001b[0m\u001b[1;33m\u001b[0m\u001b[1;33m\u001b[0m\u001b[0m\n\u001b[0m",
      "\u001b[1;31mTypeError\u001b[0m: '>' not supported between instances of 'str' and 'int'"
     ]
    }
   ],
   "source": [
    "age>18"
   ]
  },
  {
   "cell_type": "code",
   "execution_count": 8,
   "id": "37d093a9",
   "metadata": {},
   "outputs": [
    {
     "data": {
      "text/plain": [
       "str"
      ]
     },
     "execution_count": 8,
     "metadata": {},
     "output_type": "execute_result"
    }
   ],
   "source": [
    "type(age)"
   ]
  },
  {
   "cell_type": "code",
   "execution_count": 10,
   "id": "8815fe67",
   "metadata": {},
   "outputs": [
    {
     "name": "stdout",
     "output_type": "stream",
     "text": [
      "How old are you29\n"
     ]
    }
   ],
   "source": [
    "age = input(\"How old are you\")\n",
    "age = int(age)"
   ]
  },
  {
   "cell_type": "code",
   "execution_count": 11,
   "id": "98bac144",
   "metadata": {},
   "outputs": [
    {
     "data": {
      "text/plain": [
       "True"
      ]
     },
     "execution_count": 11,
     "metadata": {},
     "output_type": "execute_result"
    }
   ],
   "source": [
    "age>=18"
   ]
  },
  {
   "cell_type": "code",
   "execution_count": 15,
   "id": "7f874d5b",
   "metadata": {},
   "outputs": [
    {
     "name": "stdout",
     "output_type": "stream",
     "text": [
      "How old are you29\n",
      "You are eligible to vote\n"
     ]
    }
   ],
   "source": [
    "age = input(\"How old are you\")\n",
    "age = int(age)\n",
    "if age >= 18:\n",
    "    print(\"You are eligible to vote\")\n",
    "else:\n",
    "    print(\"Try next year\")"
   ]
  },
  {
   "cell_type": "code",
   "execution_count": null,
   "id": "a475c261",
   "metadata": {},
   "outputs": [],
   "source": [
    "Modulo Operator %"
   ]
  },
  {
   "cell_type": "code",
   "execution_count": 16,
   "id": "dc92f793",
   "metadata": {},
   "outputs": [
    {
     "data": {
      "text/plain": [
       "0"
      ]
     },
     "execution_count": 16,
     "metadata": {},
     "output_type": "execute_result"
    }
   ],
   "source": [
    "6%3"
   ]
  },
  {
   "cell_type": "code",
   "execution_count": 18,
   "id": "c8fa784e",
   "metadata": {},
   "outputs": [
    {
     "data": {
      "text/plain": [
       "2"
      ]
     },
     "execution_count": 18,
     "metadata": {},
     "output_type": "execute_result"
    }
   ],
   "source": [
    "5%3"
   ]
  },
  {
   "cell_type": "code",
   "execution_count": 19,
   "id": "36e6cf1e",
   "metadata": {},
   "outputs": [
    {
     "data": {
      "text/plain": [
       "0"
      ]
     },
     "execution_count": 19,
     "metadata": {},
     "output_type": "execute_result"
    }
   ],
   "source": [
    "120%5"
   ]
  },
  {
   "cell_type": "code",
   "execution_count": 20,
   "id": "7c24d835",
   "metadata": {
    "scrolled": true
   },
   "outputs": [
    {
     "data": {
      "text/plain": [
       "4"
      ]
     },
     "execution_count": 20,
     "metadata": {},
     "output_type": "execute_result"
    }
   ],
   "source": [
    "60%8"
   ]
  },
  {
   "cell_type": "code",
   "execution_count": null,
   "id": "cf5480e3",
   "metadata": {},
   "outputs": [],
   "source": [
    "number = input(\"Enter a number, and i will tell you if its even or odd\")\n",
    "number = int(number)\n",
    "if number%2==0:\n",
    "    print(f\"\\n The number {number} is even\")\n",
    "else:\n",
    "    print(f\"\\n The number {number} is odd\")"
   ]
  },
  {
   "cell_type": "code",
   "execution_count": null,
   "id": "2b6c068c",
   "metadata": {},
   "outputs": [],
   "source": [
    "number = input(\"Enter a number, and i will tell you if its even or odd\")\n",
    "number = int(number)\n",
    "if number%6==0:\n",
    "    print(f\"\\n The number {number} is even\")\n",
    "else:\n",
    "    print(f\"\\n The number {number} is odd\")"
   ]
  },
  {
   "cell_type": "code",
   "execution_count": null,
   "id": "6754c75f",
   "metadata": {},
   "outputs": [],
   "source": [
    "Introduction while loop:"
   ]
  },
  {
   "cell_type": "code",
   "execution_count": null,
   "id": "5784dd2a",
   "metadata": {},
   "outputs": [],
   "source": [
    "current_number = 1\n",
    "while current_number <=5:\n",
    "    print(current_number)\n",
    "    current_number = current_number+=1"
   ]
  },
  {
   "cell_type": "code",
   "execution_count": null,
   "id": "e10824b2",
   "metadata": {},
   "outputs": [],
   "source": []
  },
  {
   "cell_type": "code",
   "execution_count": null,
   "id": "29625bcc",
   "metadata": {},
   "outputs": [],
   "source": []
  },
  {
   "cell_type": "code",
   "execution_count": null,
   "id": "39084308",
   "metadata": {},
   "outputs": [],
   "source": []
  },
  {
   "cell_type": "code",
   "execution_count": null,
   "id": "7acc995f",
   "metadata": {},
   "outputs": [],
   "source": []
  }
 ],
 "metadata": {
  "kernelspec": {
   "display_name": "Python 3",
   "language": "python",
   "name": "python3"
  },
  "language_info": {
   "codemirror_mode": {
    "name": "ipython",
    "version": 3
   },
   "file_extension": ".py",
   "mimetype": "text/x-python",
   "name": "python",
   "nbconvert_exporter": "python",
   "pygments_lexer": "ipython3",
   "version": "3.8.8"
  }
 },
 "nbformat": 4,
 "nbformat_minor": 5
}
